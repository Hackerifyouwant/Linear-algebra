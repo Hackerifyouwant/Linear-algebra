{
  "nbformat": 4,
  "nbformat_minor": 0,
  "metadata": {
    "kernelspec": {
      "display_name": "Python 3",
      "language": "python",
      "name": "python3"
    },
    "language_info": {
      "codemirror_mode": {
        "name": "ipython",
        "version": 3
      },
      "file_extension": ".py",
      "mimetype": "text/x-python",
      "name": "python",
      "nbconvert_exporter": "python",
      "pygments_lexer": "ipython3",
      "version": "3.6.12"
    },
    "colab": {
      "name": "linalg_matrixMult.ipynb",
      "provenance": []
    }
  },
  "cells": [
    {
      "cell_type": "code",
      "metadata": {
        "id": "9bvYL5DWRWxQ"
      },
      "source": [
        "import numpy as np\n",
        "import matplotlib.pyplot as plt\n",
        "import math"
      ],
      "execution_count": null,
      "outputs": []
    },
    {
      "cell_type": "markdown",
      "metadata": {
        "id": "8V4y9XbERWxX"
      },
      "source": [
        "\n",
        "---\n",
        "# VIDEO: Standard matrix multiplication, parts 1 & 2\n",
        "---\n"
      ]
    },
    {
      "cell_type": "code",
      "metadata": {
        "id": "rNOEraXERWxY"
      },
      "source": [
        "## rules for multiplication validity\n",
        "\n",
        "m = 4\n",
        "n = 3\n",
        "k = 6\n",
        "\n",
        "# make some matrices\n",
        "A = np.random.randn(m,n)\n",
        "B = np.random.randn(n,k)\n",
        "C = np.random.randn(m,k)\n",
        "\n",
        "# test which multiplications are valid.\n",
        "# Think of your answer first, then test.\n",
        "np.matmul(A,B)\n",
        "np.matmul(A,A)\n",
        "np.matmul(A.T,C)\n",
        "np.matmul(B,B.T)\n",
        "np.matmul(np.matrix.transpose(B),B)\n",
        "np.matmul(B,C)\n",
        "np.matmul(C,B)\n",
        "np.matmul(C.T,B)\n",
        "np.matmul(C,B.T)"
      ],
      "execution_count": null,
      "outputs": []
    },
    {
      "cell_type": "markdown",
      "metadata": {
        "id": "6IsyquR3RWxY"
      },
      "source": [
        "\n",
        "---\n",
        "# VIDEO: Order-of-operations on matrices\n",
        "---\n"
      ]
    },
    {
      "cell_type": "code",
      "metadata": {
        "id": "0LLLigl0RWxY",
        "outputId": "851edb70-c4e3-4cbf-a174-ac844cfcc177"
      },
      "source": [
        "\n",
        "n = 7\n",
        "L = np.random.randn(n,n)\n",
        "I = np.random.randn(n,n)\n",
        "V = np.random.randn(n,n)\n",
        "E = np.random.randn(n,n)\n",
        "\n",
        "# result of \"forward\" multiplication and then transpose\n",
        "res1 = np.matrix.transpose( L @ I @ V @ E )\n",
        "\n",
        "# result of \"flipped\" multiplication of transposed matrices\n",
        "res2 = E.T @ V.T @ I.T @ L.T\n",
        "\n",
        "# test equality by subtracting (ignore possible computer rounding errors)\n",
        "res1-res2"
      ],
      "execution_count": null,
      "outputs": [
        {
          "output_type": "execute_result",
          "data": {
            "text/plain": [
              "array([[ 0.00000000e+00, -1.33226763e-15,  0.00000000e+00,\n",
              "         1.77635684e-15,  0.00000000e+00, -1.77635684e-15,\n",
              "        -2.66453526e-15],\n",
              "       [-1.77635684e-15,  0.00000000e+00, -8.88178420e-16,\n",
              "         0.00000000e+00, -1.77635684e-15,  1.77635684e-15,\n",
              "         0.00000000e+00],\n",
              "       [ 2.66453526e-15, -2.66453526e-15, -1.77635684e-15,\n",
              "         1.77635684e-15, -1.77635684e-15,  1.77635684e-15,\n",
              "         0.00000000e+00],\n",
              "       [ 5.55111512e-16,  1.33226763e-15, -3.55271368e-15,\n",
              "        -3.55271368e-15, -1.77635684e-15, -1.77635684e-15,\n",
              "         0.00000000e+00],\n",
              "       [-1.77635684e-15,  8.88178420e-16, -8.88178420e-16,\n",
              "         2.66453526e-15,  3.55271368e-15,  0.00000000e+00,\n",
              "        -1.33226763e-15],\n",
              "       [-4.44089210e-16,  2.66453526e-15,  0.00000000e+00,\n",
              "         0.00000000e+00, -2.66453526e-15,  0.00000000e+00,\n",
              "         0.00000000e+00],\n",
              "       [-1.77635684e-15,  0.00000000e+00,  3.55271368e-15,\n",
              "        -3.55271368e-15,  1.77635684e-15, -4.44089210e-16,\n",
              "         1.77635684e-15]])"
            ]
          },
          "metadata": {
            "tags": []
          },
          "execution_count": 4
        }
      ]
    },
    {
      "cell_type": "markdown",
      "metadata": {
        "id": "ecFuy_dVRWxZ"
      },
      "source": [
        "\n",
        "---\n",
        "# VIDEO: Matrix-vector multiplication\n",
        "---\n"
      ]
    },
    {
      "cell_type": "code",
      "metadata": {
        "id": "nALVupnGRWxa",
        "outputId": "54e4ad9d-faa7-480f-8180-10eebf0b36ff"
      },
      "source": [
        "\n",
        "# number of elements\n",
        "m = 4\n",
        "\n",
        "# create matrices\n",
        "N = np.random.randint(-10,11,(m,m))\n",
        "S = np.round( N.T*N / m**2 ) # scaled symmetric\n",
        "\n",
        "# and vector\n",
        "w = np.array([-1, 0, 1, 2])\n",
        "\n",
        "# with symmetric matrix\n",
        "print( S@w )     # 1\n",
        "print( S.T@w )   # 2\n",
        "print( w@S )     # 3\n",
        "print( w.T@S.T ) # 4\n",
        "print( w.T@S )   # 5\n",
        "\n",
        "\n",
        "# with nonsymmetric matrix\n",
        "print( N@w )     # 1\n",
        "print( N.T@w )   # 2\n",
        "print( w@N )     # 3\n",
        "print( w.T@N.T ) # 4\n",
        "print( w.T@N )   # 5\n"
      ],
      "execution_count": null,
      "outputs": [
        {
          "output_type": "stream",
          "text": [
            "[3. 0. 3. 9.]\n",
            "[3. 0. 3. 9.]\n",
            "[3. 0. 3. 9.]\n",
            "[3. 0. 3. 9.]\n",
            "[3. 0. 3. 9.]\n",
            "[-17  21   9  25]\n",
            "[-3 -7 11 31]\n",
            "[-3 -7 11 31]\n",
            "[-17  21   9  25]\n",
            "[-3 -7 11 31]\n"
          ],
          "name": "stdout"
        }
      ]
    },
    {
      "cell_type": "markdown",
      "metadata": {
        "id": "vJss_qe1RWxa"
      },
      "source": [
        "\n",
        "---\n",
        "# VIDEO: 2D transformation matrices\n",
        "---\n"
      ]
    },
    {
      "cell_type": "code",
      "metadata": {
        "id": "mtWLhGHxRWxb",
        "outputId": "da083734-f911-4d1f-e3ff-429529843ba6"
      },
      "source": [
        "# 2D input vector\n",
        "v = np.array([ 3, -2 ])\n",
        "\n",
        "# 2x2 transformation matrix\n",
        "A = np.array([ [1,-1], [2,1] ])\n",
        "\n",
        "# output vector is Av (convert v to column)\n",
        "w = A@np.matrix.transpose(v)\n",
        "#w = A@v.T\n",
        "\n",
        "# plot them\n",
        "plt.plot([0,v[0]],[0,v[1]],label='v')\n",
        "plt.plot([0,w[0]],[0,w[1]],label='Av')\n",
        "\n",
        "plt.grid()\n",
        "plt.axis((-6, 6, -6, 6))\n",
        "plt.legend()\n",
        "plt.title('Rotation + stretching')\n",
        "plt.show()"
      ],
      "execution_count": null,
      "outputs": [
        {
          "output_type": "display_data",
          "data": {
            "image/png": "[encoded data removed]",
            "text/plain": [
              "<Figure size 432x288 with 1 Axes>"
            ]
          },
          "metadata": {
            "tags": [],
            "needs_background": "light"
          }
        }
      ]
    },
    {
      "cell_type": "code",
      "metadata": {
        "id": "2-ReqcqQRWxb"
      },
      "source": [
        "## pure rotation\n",
        "\n",
        "# 2D input vector\n",
        "v = np.array([ 3, -2 ])\n",
        "\n",
        "# 2x2 rotation matrix\n",
        "th = 5*np.pi/24\n",
        "A = np.array([ [math.cos(th),-math.sin(th)], [math.sin(th),math.cos(th)] ])\n",
        "\n",
        "# output vector is Av (convert v to column)\n",
        "w = A@np.matrix.transpose(v)\n",
        "\n",
        "\n",
        "# plot them\n",
        "plt.plot([0,v[0]],[0,v[1]],label='v')\n",
        "plt.plot([0,w[0]],[0,w[1]],label='Av')\n",
        "\n",
        "plt.grid()\n",
        "plt.axis((-4, 4, -4, 4))\n",
        "plt.legend()\n",
        "plt.title('Pure rotation')\n",
        "plt.show()"
      ],
      "execution_count": null,
      "outputs": []
    },
    {
      "cell_type": "markdown",
      "metadata": {
        "id": "r-DfDJj7RWxc"
      },
      "source": [
        "\n",
        "---\n",
        "# VIDEO: Additive and multiplicative matrix identities\n",
        "---\n"
      ]
    },
    {
      "cell_type": "code",
      "metadata": {
        "id": "g7QQu4qIRWxc"
      },
      "source": [
        "# size of matrices\n",
        "n = 4\n",
        "\n",
        "# create the matrices\n",
        "A = np.round( 10*np.random.randn(n,n) )\n",
        "I = np.eye(n)\n",
        "Z = np.zeros((n,n))\n",
        "\n",
        "# test both identities\n",
        "np.array_equal( A@I , A   )# true\n",
        "# np.array_equal( A   , A@I )# true\n",
        "# np.array_equal( A   , A+I )# false\n",
        "\n",
        "# np.array_equal( A   , A+I )# false\n",
        "# np.array_equal( A+Z , A@I )# true"
      ],
      "execution_count": null,
      "outputs": []
    },
    {
      "cell_type": "markdown",
      "metadata": {
        "id": "4c7clz1HRWxc"
      },
      "source": [
        "\n",
        "---\n",
        "# VIDEO: Additive and multiplicative symmetric matrices\n",
        "---\n"
      ]
    },
    {
      "cell_type": "code",
      "metadata": {
        "id": "qsT0aYIPRWxc"
      },
      "source": [
        "## the additive method\n",
        "\n",
        "# specify sizes\n",
        "m = 5\n",
        "n = 5\n",
        "\n",
        "# create matrices\n",
        "A = np.random.randn(m,n)\n",
        "S = ( A + A.T )/2\n",
        "\n",
        "# A symmetric matrix minus its transpose should be all zeros\n",
        "print( S-S.T )\n"
      ],
      "execution_count": null,
      "outputs": []
    },
    {
      "cell_type": "code",
      "metadata": {
        "id": "loDeFb3DRWxd"
      },
      "source": [
        "## the multiplicative method\n",
        "\n",
        "# specify sizes\n",
        "m = 5\n",
        "n = 3\n",
        "\n",
        "# create matrices\n",
        "A   = np.random.randn(m,n)\n",
        "AtA = A.T@A\n",
        "AAt = A@A.T\n",
        "\n",
        "# first, show that they are square\n",
        "print( AtA.shape )\n",
        "print( AAt.shape )\n",
        "\n",
        "\n",
        "# next, show that they are symmetric\n",
        "print( AtA - AtA.T )\n",
        "print( AAt - AAt.T )\n",
        "\n"
      ],
      "execution_count": null,
      "outputs": []
    },
    {
      "cell_type": "markdown",
      "metadata": {
        "id": "mypw9HS5RWxd"
      },
      "source": [
        "\n",
        "---\n",
        "# VIDEO: Element-wise (Hadamard) multiplication\n",
        "---\n"
      ]
    },
    {
      "cell_type": "code",
      "metadata": {
        "id": "tw3RvbCXRWxd"
      },
      "source": [
        "# any matrix sizes\n",
        "m = 13\n",
        "n =  2\n",
        "\n",
        "# ...but the two matrices must be the same size\n",
        "A = np.random.randn(m,n)\n",
        "B = np.random.randn(m,n)\n",
        "\n",
        "# note the different syntax compared to @ for matrix multiplication\n",
        "C1 = np.multiply( A,B )\n",
        "C2 = A*B\n",
        "\n",
        "print(C1), print(' ')\n",
        "print(C2), print(' ')\n",
        "\n",
        "print(C1-C2)\n"
      ],
      "execution_count": null,
      "outputs": []
    },
    {
      "cell_type": "markdown",
      "metadata": {
        "id": "fEgIbfJzRWxe"
      },
      "source": [
        "\n",
        "---\n",
        "# VIDEO: Multiplication of two symmetric matrices\n",
        "---\n"
      ]
    },
    {
      "cell_type": "code",
      "metadata": {
        "id": "LyVLxME0RWxe"
      },
      "source": [
        "# using the sympy library\n",
        "from sympy import *\n",
        "\n",
        "a,b,c,d,e,f,g,h,k,l,m,n,o,p,q,r,s,t,u = symbols('a b c d e f g h k l m n o p q r s t u', real=True)\n",
        "\n",
        "# symmetric and constant-diagonal matrices\n",
        "A = Matrix([ [a,b,c,d],\n",
        "             [b,a,e,f],\n",
        "             [c,e,a,h],\n",
        "             [d,f,h,a]   ])\n",
        "\n",
        "B = Matrix([ [l,m,n,o],\n",
        "             [m,l,q,r],\n",
        "             [n,q,l,t],\n",
        "             [o,r,t,l]   ])\n",
        "\n",
        "\n",
        "# confirmation that A and B are symmetric\n",
        "print( A - A.transpose() )\n",
        "print( B - B.transpose() )\n",
        "\n",
        "# ... and constant diagonal\n",
        "for i in range(0,np.size(A,0)):\n",
        "    print( A[i,i] )\n",
        "for i in range(0,np.size(B,0)):\n",
        "    print( B[i,i] )\n"
      ],
      "execution_count": null,
      "outputs": []
    },
    {
      "cell_type": "code",
      "metadata": {
        "id": "Fc2nU_fxRWxe"
      },
      "source": [
        "# nice printing in sympy\n",
        "init_printing()\n",
        "\n",
        "# but AB neq (AB)'\n",
        "A@B - (A@B).T\n",
        "\n",
        "# maybe for a submatrix?\n",
        "n = 3\n",
        "A1 = A[ 0:n,0:n ]\n",
        "B1 = B[ 0:n,0:n ]\n",
        "\n",
        "# A1@B1 - (A1@B1).T"
      ],
      "execution_count": null,
      "outputs": []
    },
    {
      "cell_type": "markdown",
      "metadata": {
        "id": "I37A05pkRWxf"
      },
      "source": [
        "\n",
        "---\n",
        "# VIDEO: Frobenius dot-product\n",
        "---\n"
      ]
    },
    {
      "cell_type": "code",
      "metadata": {
        "id": "3tgNAhrYRWxf"
      },
      "source": [
        "# any matrix sizes\n",
        "m = 9\n",
        "n = 4\n",
        "\n",
        "# but the two matrices must be the same size\n",
        "A = np.random.randn(m,n)\n",
        "B = np.random.randn(m,n)\n",
        "\n",
        "# first vectorize, then vector-dot-product\n",
        "Av = np.reshape( A,m*n, order='F' ) # order='F' reshapes by columns instead of by rows\n",
        "Bv = np.reshape( B,m*n, order='F' )\n",
        "frob_dp = np.dot( Av,Bv )\n",
        "\n",
        "# trace method\n",
        "frob_dp2 = np.trace( A.T@B )\n",
        "print(frob_dp2)\n",
        "print(frob_dp)\n",
        "\n",
        "# matrix norm\n",
        "Anorm  = np.linalg.norm(A,'fro')\n",
        "Anorm2 = np.sqrt( np.trace( A.T@A ) )\n",
        "# print(Anorm)\n",
        "# print(Anorm2)"
      ],
      "execution_count": null,
      "outputs": []
    },
    {
      "cell_type": "markdown",
      "metadata": {
        "id": "r9uLcg5bRWxf"
      },
      "source": [
        "# VIDEO: Matrix norms"
      ]
    },
    {
      "cell_type": "code",
      "metadata": {
        "id": "d0p1kBVbRWxg"
      },
      "source": [
        "# Create a matrix\n",
        "A = np.array([ [1,2,3], [4,5,6], [7,7,9] ])\n",
        "\n",
        "# optional orthogonal matrix to show that 2-norm is 1\n",
        "Q,R = np.linalg.qr(np.random.randn(5,5))\n",
        "# A = Q\n",
        "\n",
        "# Frobenius norm\n",
        "normFrob = np.linalg.norm(A,'fro')\n",
        "\n",
        "# induced 2-norm\n",
        "normInd2 = np.linalg.norm(A,2)\n",
        "# note: computed as below\n",
        "lamb = np.sqrt( np.max(np.linalg.eig(A.T@A)[0]) )\n",
        "\n",
        "# schatten p-norm\n",
        "p = 2\n",
        "s = np.linalg.svd(A)[1] # get singular values\n",
        "normSchat = np.sum(s**p)**(1/p)\n",
        "\n",
        "\n",
        "# % show all norms for comparison\n",
        "print(normFrob,normSchat,normInd2)\n"
      ],
      "execution_count": null,
      "outputs": []
    }
  ]
}
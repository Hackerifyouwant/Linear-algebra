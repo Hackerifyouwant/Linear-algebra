{
 "cells": [
  {
   "cell_type": "code",
   "execution_count": 3,
   "id": "52a1516a",
   "metadata": {},
   "outputs": [],
   "source": [
    "import numpy as np"
   ]
  },
  {
   "cell_type": "code",
   "execution_count": 3,
   "id": "ea8d4ca1",
   "metadata": {},
   "outputs": [
    {
     "name": "stdout",
     "output_type": "stream",
     "text": [
      "[[ 0.51494802  0.52096222 -0.27033615]\n",
      " [ 0.01568375 -0.47052521 -0.13067625]]\n",
      "[[ 0.51494802  0.52096222 -0.27033615]\n",
      " [ 0.01568375 -0.47052521 -0.13067625]]\n"
     ]
    }
   ],
   "source": [
    "s = 0.3\n",
    "A = np.random.randn(2, 3)\n",
    "B = np.random.randn(2, 3)\n",
    "\n",
    "res1 = s * (A + B)\n",
    "res2 = s * A + s * B\n",
    "\n",
    "print(res1)\n",
    "print(res2)"
   ]
  },
  {
   "cell_type": "code",
   "execution_count": 5,
   "id": "8bae79e7",
   "metadata": {},
   "outputs": [
    {
     "name": "stdout",
     "output_type": "stream",
     "text": [
      "0.0497930916944318\n",
      "0.0497930916944318\n",
      "-1.041287764549335\n",
      "[-1.04128776]\n"
     ]
    }
   ],
   "source": [
    "A = np.random.randn(4, 4)\n",
    "B = np.random.randn(4, 4)\n",
    "\n",
    "print(np.trace(A) + np.trace(B))\n",
    "print(np.trace(A + B))\n",
    "\n",
    "Lambda = np.random.randn(1)\n",
    "\n",
    "print(np.trace(Lambda * A))\n",
    "print(Lambda * np.trace(A))"
   ]
  },
  {
   "cell_type": "code",
   "execution_count": 18,
   "id": "2281f4a1",
   "metadata": {},
   "outputs": [
    {
     "name": "stdout",
     "output_type": "stream",
     "text": [
      "4\n",
      "[[-1.  1.  0. -1.  0.]\n",
      " [ 0.  4. -2.  0. -4.]\n",
      " [-4. -2. -3. -1.  0.]\n",
      " [ 2. -2.  2. -2.  2.]\n",
      " [-3. -1. -2.  3.  0.]]\n",
      "[[-1.  1.  0. -1.  0.]\n",
      " [ 0.  4. -2.  0. -4.]\n",
      " [-4. -2. -3. -1.  0.]\n",
      " [ 2. -2.  2. -2.  2.]\n",
      " [-3. -1. -2.  3.  0.]]\n"
     ]
    }
   ],
   "source": [
    "A = np.round(np.random.randn(5, 4))\n",
    "B = np.round(np.random.randn(4, 5))\n",
    "\n",
    "M = np.zeros(5)\n",
    "\n",
    "print(A.shape[1])\n",
    "\n",
    "for i in range(A.shape[1]):\n",
    "    M = M + np.outer(A[:, i], B[i, :]) \n",
    "    \n",
    "print(M)\n",
    "print(A@B)"
   ]
  },
  {
   "cell_type": "code",
   "execution_count": null,
   "id": "8093b064",
   "metadata": {},
   "outputs": [],
   "source": []
  }
 ],
 "metadata": {
  "kernelspec": {
   "display_name": "Python 3",
   "language": "python",
   "name": "python3"
  },
  "language_info": {
   "codemirror_mode": {
    "name": "ipython",
    "version": 3
   },
   "file_extension": ".py",
   "mimetype": "text/x-python",
   "name": "python",
   "nbconvert_exporter": "python",
   "pygments_lexer": "ipython3",
   "version": "3.6.12"
  }
 },
 "nbformat": 4,
 "nbformat_minor": 5
}

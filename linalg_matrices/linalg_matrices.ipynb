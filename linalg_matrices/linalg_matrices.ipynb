{
 "cells": [
  {
   "cell_type": "code",
   "execution_count": 2,
   "metadata": {},
   "outputs": [],
   "source": [
    "import numpy as np"
   ]
  },
  {
   "cell_type": "markdown",
   "metadata": {},
   "source": [
    "\n",
    "---\n",
    "# VIDEO: A zoo of matrices\n",
    "---\n"
   ]
  },
  {
   "cell_type": "code",
   "execution_count": 7,
   "metadata": {},
   "outputs": [
    {
     "name": "stdout",
     "output_type": "stream",
     "text": [
      "[[[ 1.04875225e-01  4.61793150e-02 -2.72421119e-01  3.23252929e-01\n",
      "    8.39797184e-01]\n",
      "  [ 6.60443528e-01  5.65250200e-01 -3.23719193e-01 -1.16315606e+00\n",
      "    1.60488529e+00]\n",
      "  [-1.64143753e+00  3.45224140e-01  3.32427598e-01  1.00806582e+00\n",
      "   -7.49567636e-01]\n",
      "  [ 1.72012877e+00 -8.17267140e-01  7.29526707e-01  1.92287132e+00\n",
      "   -7.07699767e-01]\n",
      "  [ 2.70309060e-01  1.41044570e+00  1.78613856e+00  2.48834612e+00\n",
      "   -2.84755000e-01]]\n",
      "\n",
      " [[-6.42154802e-01  8.94161808e-01 -1.20158207e+00 -3.91611945e-01\n",
      "   -6.51670239e-01]\n",
      "  [-4.01969485e-01 -4.81899087e-01 -4.10706740e-01  1.21985842e+00\n",
      "   -1.30084771e-01]\n",
      "  [-7.02306787e-01  1.97956654e+00 -1.61958983e+00  7.44750696e-01\n",
      "   -5.15198255e-01]\n",
      "  [-3.25859854e-01  7.16412990e-01 -5.72757852e-01  6.55897651e-01\n",
      "   -1.23092768e+00]\n",
      "  [ 8.36381093e-01 -1.80900344e-01 -5.22467877e-01 -1.37266576e+00\n",
      "    3.84886876e-01]]\n",
      "\n",
      " [[ 1.02808151e+00  6.96002426e-01  5.81792351e-01 -2.33103572e+00\n",
      "   -4.83214687e-02]\n",
      "  [ 2.29676768e-01  2.56905810e-02 -2.24369343e+00  1.69983168e+00\n",
      "   -9.80954302e-01]\n",
      "  [ 3.58739614e-01  1.25092661e-01  6.80652073e-01 -2.22296944e-01\n",
      "   -7.85625565e-01]\n",
      "  [-4.64760875e-01 -3.72166432e-01 -2.02910548e-01  2.12835404e-02\n",
      "   -7.34377001e-02]\n",
      "  [ 2.21984543e+00  8.58461713e-01 -9.34959978e-01 -4.44482208e-01\n",
      "   -1.02669606e+00]]\n",
      "\n",
      " [[ 1.55457601e+00  3.17086108e-01  1.35977485e+00 -4.91513808e-01\n",
      "   -2.31554833e-01]\n",
      "  [-6.95344858e-01 -2.00707916e-01 -2.46711417e+00 -1.86698252e-03\n",
      "    1.94377242e+00]\n",
      "  [ 1.11168177e+00 -8.48107824e-01  1.21893476e+00 -3.74664601e-01\n",
      "    4.43080813e-01]\n",
      "  [ 5.26675899e-01 -7.29853847e-01 -4.04102498e-01  1.09940229e-01\n",
      "    1.30104485e-01]\n",
      "  [-3.19333382e-01  5.47531962e-01  6.89498623e-01  6.30131480e-01\n",
      "   -1.45922429e-01]]\n",
      "\n",
      " [[-1.58309290e+00 -6.53845572e-02  6.07050093e-01  7.81981013e-01\n",
      "    1.22739918e+00]\n",
      "  [-1.33999308e+00  2.26464422e+00 -1.40167848e+00 -3.01495315e-01\n",
      "    2.03854054e-01]\n",
      "  [-1.54527596e+00  1.33353223e+00 -8.23320338e-01 -2.10934989e+00\n",
      "    1.20198862e+00]\n",
      "  [ 5.29462252e-01 -2.75776689e+00 -1.13278235e+00 -7.52979811e-01\n",
      "   -9.51068582e-02]\n",
      "  [-1.54227556e+00  3.68068104e-01 -2.17938144e-01  1.55892667e+00\n",
      "    1.42174783e+00]]]\n",
      " \n",
      "[[ 0.34396934  0.67853106]\n",
      " [ 0.74852274 -0.41949456]\n",
      " [ 0.14792204  0.09727738]\n",
      " [ 0.06671443 -1.09406867]\n",
      " [-0.86659226 -0.95135539]]\n",
      "[[1. 0. 0.]\n",
      " [0. 1. 0.]\n",
      " [0. 0. 1.]]\n",
      " \n",
      "[[0. 0. 0. 0.]\n",
      " [0. 0. 0. 0.]\n",
      " [0. 0. 0. 0.]\n",
      " [0. 0. 0. 0.]]\n",
      " \n",
      "[[1 0 0 0 0]\n",
      " [0 2 0 0 0]\n",
      " [0 0 3 0 0]\n",
      " [0 0 0 5 0]\n",
      " [0 0 0 0 2]]\n",
      " \n",
      "[[ 0.06825838  0.          0.          0.          0.        ]\n",
      " [-0.93973459 -0.63326588  0.          0.          0.        ]\n",
      " [ 0.49664191 -0.84359099  0.66031842  0.          0.        ]\n",
      " [-0.49839659 -1.20783718  1.29090821  1.14631036  0.        ]\n",
      " [-0.7375838   0.54285487  0.58359146  0.09749261 -0.44205963]]\n",
      " \n",
      "[[ 1.91014374 -0.36255435 -0.2920137   0.05596084]\n",
      " [ 0.66272089  1.07507978  0.39011989 -0.00682925]\n",
      " [ 1.05820046 -1.59130812  0.29172815  1.18086692]\n",
      " [ 0.19910488 -0.43683205  0.41627549 -0.98995041]\n",
      " [ 0.17072202 -0.88057516  0.31088527 -1.28041923]]\n"
     ]
    }
   ],
   "source": [
    "\n",
    "# square vs. rectangular\n",
    "S = np.random.randn(5,5,5)\n",
    "R = np.random.randn(5,2) # 5 rows, 2 columns\n",
    "print(S), print(' ')\n",
    "print(R)\n",
    "\n",
    "# identity\n",
    "I = np.eye(3)\n",
    "print(I), print(' ')\n",
    "\n",
    "# zeros\n",
    "Z = np.zeros((4,4))\n",
    "print(Z), print(' ')\n",
    "\n",
    "# diagonal\n",
    "D = np.diag([ 1, 2, 3, 5, 2 ])\n",
    "print(D), print(' ')\n",
    "\n",
    "# create triangular matrix from full matrices\n",
    "S = np.random.randn(5,5)\n",
    "U = np.triu(S)\n",
    "L = np.tril(S)\n",
    "print(L), print(' ')\n",
    "\n",
    "# concatenate matrices (sizes must match!)\n",
    "A = np.random.randn(2,4)\n",
    "B = np.random.randn(3,4)\n",
    "C = np.concatenate((A,B),axis=0)\n",
    "print(C)"
   ]
  },
  {
   "cell_type": "markdown",
   "metadata": {},
   "source": [
    "\n",
    "---\n",
    "# VIDEO: Matrix addition and subtraction\n",
    "---\n"
   ]
  },
  {
   "cell_type": "code",
   "execution_count": 10,
   "metadata": {},
   "outputs": [
    {
     "name": "stdout",
     "output_type": "stream",
     "text": [
      "[[-1.4312669  -0.33780991 -0.72743846  1.69188486 -1.09101515]\n",
      " [ 0.24995871  1.08870958  1.08856997  0.05497165  1.25928134]\n",
      " [-0.39824871  1.06606545  0.47340812 -0.16690527 -1.79828664]\n",
      " [-1.62704912  0.35472308  0.71280489 -0.83693183  2.0089046 ]\n",
      " [-1.82214094 -1.883722    1.6688946  -0.55279959  0.35484905]]\n",
      " \n",
      "[[-1.4012669  -0.33780991 -0.72743846  1.69188486 -1.09101515]\n",
      " [ 0.24995871  1.11870958  1.08856997  0.05497165  1.25928134]\n",
      " [-0.39824871  1.06606545  0.50340812 -0.16690527 -1.79828664]\n",
      " [-1.62704912  0.35472308  0.71280489 -0.80693183  2.0089046 ]\n",
      " [-1.82214094 -1.883722    1.6688946  -0.55279959  0.38484905]]\n"
     ]
    },
    {
     "data": {
      "text/plain": [
       "(None, None, None)"
      ]
     },
     "execution_count": 10,
     "metadata": {},
     "output_type": "execute_result"
    }
   ],
   "source": [
    "\n",
    "# create random matrices\n",
    "A = np.random.randn(5,4)\n",
    "B = np.random.randn(5,4)\n",
    "C = np.random.randn(5,4)\n",
    "\n",
    "# try to add them\n",
    "A+B\n",
    "A+C\n",
    "\n",
    "\n",
    "\n",
    "# \"shifting\" a matrix\n",
    "l = .03 # lambda\n",
    "N = 5  # size of square matrix\n",
    "D = np.random.randn(N,N) # can only shift a square matrix\n",
    "\n",
    "Ds = D + l*np.eye(N)\n",
    "print(D), print(' '), print(Ds)"
   ]
  },
  {
   "cell_type": "markdown",
   "metadata": {},
   "source": [
    "\n",
    "---\n",
    "# VIDEO: Matrix-scalar multiplication\n",
    "---\n"
   ]
  },
  {
   "cell_type": "code",
   "execution_count": 9,
   "metadata": {},
   "outputs": [
    {
     "name": "stdout",
     "output_type": "stream",
     "text": [
      "[[ 2  4]\n",
      " [ 4 10]]\n",
      "[[ 2  4]\n",
      " [ 4 10]]\n"
     ]
    }
   ],
   "source": [
    "# define matrix and scalar\n",
    "M = np.array([ [1, 2], [2, 5] ])\n",
    "s = 2\n",
    "\n",
    "# pre- and post-multiplication is the same:\n",
    "print( M*s )\n",
    "print( s*M )\n"
   ]
  },
  {
   "cell_type": "markdown",
   "metadata": {},
   "source": [
    "# VIDEO: Transpose"
   ]
  },
  {
   "cell_type": "code",
   "execution_count": null,
   "metadata": {},
   "outputs": [],
   "source": [
    "M = np.array([ [1,2,3],\n",
    "               [2,3,4] ])\n",
    "\n",
    "print(M), print('')\n",
    "print(M.T), print('') # one transpose\n",
    "print(M.T.T), print('') # double-transpose returns the original matrix\n",
    "\n",
    "# can also use the function transpose\n",
    "print(np.transpose(M))"
   ]
  },
  {
   "cell_type": "code",
   "execution_count": null,
   "metadata": {},
   "outputs": [],
   "source": [
    "# warning! be careful when using complex matrices\n",
    "C = np.array([ [4+1j , 3 , 2-4j] ])\n",
    "\n",
    "print(C), print('')\n",
    "print(C.T), print('')\n",
    "print(np.transpose(C)), print('')\n",
    "\n",
    "# Note: In MATLAB, the transpose is the Hermitian transpose; \n",
    "#       in Python, you need to call the Hermitian explicitly by first converting from an array into a matrix\n",
    "print(np.matrix(C).H) # note the sign flips!\n"
   ]
  },
  {
   "cell_type": "markdown",
   "metadata": {},
   "source": [
    "\n",
    "---\n",
    "# VIDEO: Diagonal and trace\n",
    "---\n"
   ]
  },
  {
   "cell_type": "code",
   "execution_count": null,
   "metadata": {},
   "outputs": [],
   "source": [
    "\n",
    "M = np.round( 6*np.random.randn(4,4) )\n",
    "print(M), print(' ')\n",
    "# extract the diagonals\n",
    "d = np.diag(M)\n",
    "\n",
    "# notice the two ways of using the diag function\n",
    "d = np.diag(M) # input is matrix, output is vector\n",
    "D = np.diag(d) # input is vector, output is matrix\n",
    "print(d)\n",
    "print(D)\n",
    "\n",
    "# trace as sum of diagonal elements\n",
    "tr = np.trace(M)\n",
    "tr2 = sum( np.diag(M) )\n",
    "print(tr,tr2)"
   ]
  },
  {
   "cell_type": "markdown",
   "metadata": {},
   "source": [
    "\n",
    "---\n",
    "# VIDEO: Broadcasting matrix arithmetic\n",
    "---\n"
   ]
  },
  {
   "cell_type": "code",
   "execution_count": null,
   "metadata": {},
   "outputs": [],
   "source": [
    "# create a matrix\n",
    "A = np.reshape(np.arange(1,13),(3,4),'F') # F=column, C=row\n",
    "\n",
    "# and two vectors\n",
    "r = [ 10, 20, 30, 40 ]\n",
    "c = [ 100, 200, 300 ]\n",
    "\n",
    "print(A), print(' ')\n",
    "print(r), print(' ')\n",
    "print(c), print(' ');"
   ]
  },
  {
   "cell_type": "code",
   "execution_count": null,
   "metadata": {},
   "outputs": [],
   "source": [
    "# broadcast on the rows\n",
    "# print(A+r), print(' ')\n",
    "\n",
    "# broadcast on the columns\n",
    "print(A+c)\n",
    "# print(A+np.reshape(c,(len(c),1))) # only works for explicit column vectors\n"
   ]
  }
 ],
 "metadata": {
  "kernelspec": {
   "display_name": "Python 3",
   "language": "python",
   "name": "python3"
  },
  "language_info": {
   "codemirror_mode": {
    "name": "ipython",
    "version": 3
   },
   "file_extension": ".py",
   "mimetype": "text/x-python",
   "name": "python",
   "nbconvert_exporter": "python",
   "pygments_lexer": "ipython3",
   "version": "3.6.12"
  }
 },
 "nbformat": 4,
 "nbformat_minor": 2
}

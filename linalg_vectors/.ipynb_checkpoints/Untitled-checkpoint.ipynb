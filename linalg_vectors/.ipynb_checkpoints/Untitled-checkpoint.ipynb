{
 "cells": [
  {
   "cell_type": "code",
   "execution_count": 1,
   "id": "a330e815",
   "metadata": {},
   "outputs": [],
   "source": [
    "import numpy as np\n",
    "import matplotlib.pyplot as plt"
   ]
  },
  {
   "cell_type": "code",
   "execution_count": 8,
   "id": "c83a4f63",
   "metadata": {},
   "outputs": [
    {
     "name": "stdout",
     "output_type": "stream",
     "text": [
      "-6.530230252454856 -6.530230252454856 0.0\n",
      "26 26 26\n"
     ]
    }
   ],
   "source": [
    "v1 = np.random.randn(100)\n",
    "v2 = np.random.randn(100)\n",
    "\n",
    "res1 = np.dot(v1, v2)\n",
    "res2 = np.dot(v2, v1)\n",
    "\n",
    "print(res1, res2, res1 - res2)\n",
    "\n",
    "v = np.array([2, 4])\n",
    "w = np.array([3, 5])\n",
    "\n",
    "print(np.dot(v, w), np.dot(w, v), w@v)\n"
   ]
  },
  {
   "cell_type": "code",
   "execution_count": 34,
   "id": "6a43bc06",
   "metadata": {},
   "outputs": [
    {
     "name": "stdout",
     "output_type": "stream",
     "text": [
      "Original dot product: -3\n",
      "Scaled dot product: -18\n"
     ]
    }
   ],
   "source": [
    "v1 = np.array([-3,4,6])\n",
    "v2 = np.array([3, 6, -3])\n",
    "s1 = 2\n",
    "s2 = 3\n",
    "print('Original dot product: ' + str(np.dot(v1, v2)))\n",
    "print('Scaled dot product: ' + str(np.dot(v1 * s1, v2 * s2)))"
   ]
  },
  {
   "cell_type": "code",
   "execution_count": null,
   "id": "3d4855d8",
   "metadata": {},
   "outputs": [],
   "source": []
  }
 ],
 "metadata": {
  "kernelspec": {
   "display_name": "Python 3",
   "language": "python",
   "name": "python3"
  },
  "language_info": {
   "codemirror_mode": {
    "name": "ipython",
    "version": 3
   },
   "file_extension": ".py",
   "mimetype": "text/x-python",
   "name": "python",
   "nbconvert_exporter": "python",
   "pygments_lexer": "ipython3",
   "version": "3.6.12"
  }
 },
 "nbformat": 4,
 "nbformat_minor": 5
}

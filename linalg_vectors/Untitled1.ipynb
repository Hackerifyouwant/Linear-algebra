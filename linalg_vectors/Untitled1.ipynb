{
 "cells": [
  {
   "cell_type": "code",
   "execution_count": 1,
   "id": "e001b53c",
   "metadata": {},
   "outputs": [],
   "source": [
    "import numpy as np\n",
    "import matplotlib.pyplot as plt"
   ]
  },
  {
   "cell_type": "code",
   "execution_count": 11,
   "id": "106b90a9",
   "metadata": {},
   "outputs": [
    {
     "name": "stdout",
     "output_type": "stream",
     "text": [
      "[18. 12. 10. 19.]\n",
      " \n",
      "[ 2. 14. 16.  1.]\n",
      " \n",
      "30.479501308256342\n",
      " \n",
      "21.37755832643195\n",
      " \n",
      "383.0\n",
      " \n",
      "0.03280893574623933 0.0467780269724988\n",
      " \n",
      "[0.59056084 0.39370723 0.32808936 0.62336978] [0.09355605 0.65489238 0.74844843 0.04677803]\n",
      " \n",
      "0.9999999999999999 1.0\n",
      " \n",
      "0.5878043787289238\n",
      " \n"
     ]
    }
   ],
   "source": [
    "v1 = np.round(20 * np.random.rand(4))\n",
    "v2 = np.round(20 * np.random.rand(4))\n",
    "\n",
    "print(v1)\n",
    "print(' ')\n",
    "\n",
    "print(v2)\n",
    "print(' ')\n",
    "\n",
    "v1l = np.linalg.norm(v1)\n",
    "v2l = np.linalg.norm(v2)\n",
    "\n",
    "print(v1l)\n",
    "print(' ')\n",
    "\n",
    "print(v2l)\n",
    "print(' ')\n",
    "\n",
    "v1dv2 = abs(np.dot(v1, v2))\n",
    "\n",
    "\n",
    "print(v1dv2)\n",
    "print(' ')\n",
    "\n",
    "muv1 = 1 / v1l\n",
    "muv2 = 1 / v2l\n",
    "\n",
    "\n",
    "print(muv1, muv2)\n",
    "print(' ')\n",
    "\n",
    "v1m = v1 * muv1\n",
    "v2m = v2 * muv2\n",
    "\n",
    "\n",
    "print(v1m, v2m)\n",
    "print(' ')\n",
    "\n",
    "v1ml = np.linalg.norm(v1m)\n",
    "v2ml = np.linalg.norm(v2m)\n",
    "\n",
    "print(v1ml, v2ml)\n",
    "print(' ')\n",
    "\n",
    "v1dv2_nor = abs(np.dot(v1m, v2m))\n",
    "\n",
    "print(v1dv2_nor)\n",
    "print(' ')\n"
   ]
  },
  {
   "cell_type": "code",
   "execution_count": null,
   "id": "6f1582e3",
   "metadata": {},
   "outputs": [],
   "source": []
  }
 ],
 "metadata": {
  "kernelspec": {
   "display_name": "Python 3",
   "language": "python",
   "name": "python3"
  },
  "language_info": {
   "codemirror_mode": {
    "name": "ipython",
    "version": 3
   },
   "file_extension": ".py",
   "mimetype": "text/x-python",
   "name": "python",
   "nbconvert_exporter": "python",
   "pygments_lexer": "ipython3",
   "version": "3.6.12"
  }
 },
 "nbformat": 4,
 "nbformat_minor": 5
}

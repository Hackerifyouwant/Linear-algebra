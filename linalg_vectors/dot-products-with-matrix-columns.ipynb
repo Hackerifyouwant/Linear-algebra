{
 "cells": [
  {
   "cell_type": "code",
   "execution_count": 1,
   "id": "9b61829e",
   "metadata": {},
   "outputs": [],
   "source": [
    "import numpy as np\n",
    "import matplotlib.pyplot as plt"
   ]
  },
  {
   "cell_type": "code",
   "execution_count": 16,
   "id": "a9448e42",
   "metadata": {},
   "outputs": [
    {
     "name": "stdout",
     "output_type": "stream",
     "text": [
      "[-0.38915744 -1.21445812  0.85381655  0.02394561 -1.65653064  4.36382643]\n"
     ]
    }
   ],
   "source": [
    "m1 = np.random.randn(4, 6)\n",
    "m2 = np.random.randn(4, 6)\n",
    "\n",
    "m3 = np.zeros(m1.shape[1])\n",
    "for i in range(m1.shape[1]):\n",
    "    m3[i] = np.dot(m1[:, i], m2[:, i])\n",
    "print(m3)\n",
    "# for i inm1"
   ]
  },
  {
   "cell_type": "code",
   "execution_count": null,
   "id": "948b278c",
   "metadata": {},
   "outputs": [],
   "source": []
  }
 ],
 "metadata": {
  "kernelspec": {
   "display_name": "Python 3",
   "language": "python",
   "name": "python3"
  },
  "language_info": {
   "codemirror_mode": {
    "name": "ipython",
    "version": 3
   },
   "file_extension": ".py",
   "mimetype": "text/x-python",
   "name": "python",
   "nbconvert_exporter": "python",
   "pygments_lexer": "ipython3",
   "version": "3.6.12"
  }
 },
 "nbformat": 4,
 "nbformat_minor": 5
}

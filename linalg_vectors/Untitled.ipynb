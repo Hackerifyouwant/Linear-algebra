{
 "cells": [
  {
   "cell_type": "code",
   "execution_count": 2,
   "id": "207864cb",
   "metadata": {},
   "outputs": [],
   "source": [
    "import numpy as np\n",
    "import matplotlib.pyplot as plt"
   ]
  },
  {
   "cell_type": "code",
   "execution_count": 35,
   "id": "91a42d60",
   "metadata": {},
   "outputs": [
    {
     "name": "stdout",
     "output_type": "stream",
     "text": [
      "-0.6163293026701577 -0.6163293026701577 0.0\n",
      "26 26 26 26\n"
     ]
    }
   ],
   "source": [
    "v1 = np.random.randn(100)\n",
    "v2 = np.random.randn(100)\n",
    "\n",
    "res1 = np.dot(v1, v2)\n",
    "res2 = np.dot(v2, v1)\n",
    "\n",
    "print(res1, res2, res1 - res2)\n",
    "\n",
    "v = np.array([2, 4])\n",
    "w = np.array([3, 5])\n",
    "\n",
    "print(np.dot(v, w), np.dot(w, v), w@v, v@w)\n"
   ]
  },
  {
   "cell_type": "code",
   "execution_count": 34,
   "id": "5c118889",
   "metadata": {},
   "outputs": [
    {
     "name": "stdout",
     "output_type": "stream",
     "text": [
      "Original dot product: -3\n",
      "Scaled dot product: -18\n"
     ]
    }
   ],
   "source": [
    "v1 = np.array([-3,4,6])\n",
    "v2 = np.array([3, 6, -3])\n",
    "s1 = 2\n",
    "s2 = 3\n",
    "print('Original dot product: ' + str(np.dot(v1, v2)))\n",
    "print('Scaled dot product: ' + str(np.dot(v1 * s1, v2 * s2)))"
   ]
  },
  {
   "cell_type": "code",
   "execution_count": 42,
   "id": "c70f5aa5",
   "metadata": {},
   "outputs": [
    {
     "data": {
      "text/plain": [
       "array([[ 3, 12],\n",
       "       [ 2,  8]])"
      ]
     },
     "execution_count": 42,
     "metadata": {},
     "output_type": "execute_result"
    }
   ],
   "source": [
    "m1 = np.array([[1, 2],[3, 4]])\n",
    "m2 = np.array([[3, 4],[1, 2]])\n",
    "\n",
    "np.dot(m1, m2)\n",
    "np.dot(m2, m1)\n",
    "\n",
    "m1.T * m2\n",
    "m2.T * m1\n",
    "\n",
    "np.multiply(m1.T, m2)"
   ]
  },
  {
   "cell_type": "code",
   "execution_count": 55,
   "id": "8147cc1c",
   "metadata": {},
   "outputs": [
    {
     "name": "stdout",
     "output_type": "stream",
     "text": [
      "[[0.]\n",
      " [1.]\n",
      " [4.]]\n"
     ]
    },
    {
     "data": {
      "text/plain": [
       "array([[0., 0., 0.],\n",
       "       [0., 1., 2.],\n",
       "       [0., 2., 4.]])"
      ]
     },
     "execution_count": 55,
     "metadata": {},
     "output_type": "execute_result"
    }
   ],
   "source": [
    "x1 = np.arange(3.0).reshape((3, 1))\n",
    "x2 = np.arange(3.0).reshape((3, 1))\n",
    "print(np.multiply(x1, x2))\n",
    "x1 * x2\n",
    "np.dot(x2, x1.T)\n"
   ]
  },
  {
   "cell_type": "code",
   "execution_count": 20,
   "id": "598e98fa",
   "metadata": {},
   "outputs": [
    {
     "name": "stdout",
     "output_type": "stream",
     "text": [
      "[[[-0. -1.]\n",
      "  [-1.  0.]]\n",
      "\n",
      " [[ 2. -1.]\n",
      "  [-0.  0.]]\n",
      "\n",
      " [[-2.  1.]\n",
      "  [-0.  0.]]]\n",
      " \n",
      "[[[-2. -1.]\n",
      "  [-1. -2.]]\n",
      "\n",
      " [[-2.  2.]\n",
      "  [ 2. -0.]]\n",
      "\n",
      " [[-0.  1.]\n",
      "  [ 4.  1.]]]\n",
      " \n",
      "np.multiply\n",
      " \n",
      "[[[ 0.  1.]\n",
      "  [ 1. -0.]]\n",
      "\n",
      " [[-4. -2.]\n",
      "  [-0. -0.]]\n",
      "\n",
      " [[ 0.  1.]\n",
      "  [-0.  0.]]]\n",
      " \n",
      "[[[ 0.  1.]\n",
      "  [ 1. -0.]]\n",
      "\n",
      " [[-4. -2.]\n",
      "  [-0. -0.]]\n",
      "\n",
      " [[ 0.  1.]\n",
      "  [-0.  0.]]]\n",
      " \n",
      "m1 * m2\n",
      "[[[ 0.  1.]\n",
      "  [ 1. -0.]]\n",
      "\n",
      " [[-4. -2.]\n",
      "  [-0. -0.]]\n",
      "\n",
      " [[ 0.  1.]\n",
      "  [-0.  0.]]]\n",
      " \n",
      "[[[ 0.  1.]\n",
      "  [ 1. -0.]]\n",
      "\n",
      " [[-4. -2.]\n",
      "  [-0. -0.]]\n",
      "\n",
      " [[ 0.  1.]\n",
      "  [-0.  0.]]]\n",
      " \n",
      "np.dot(m1, m2)\n",
      " \n",
      "[[[[ 1.  2.]\n",
      "   [-2.  0.]\n",
      "   [-4. -1.]]\n",
      "\n",
      "  [[ 2.  1.]\n",
      "   [ 2. -2.]\n",
      "   [ 0. -1.]]]\n",
      "\n",
      "\n",
      " [[[-3.  0.]\n",
      "   [-6.  4.]\n",
      "   [-4.  1.]]\n",
      "\n",
      "  [[ 0.  0.]\n",
      "   [ 0.  0.]\n",
      "   [ 0.  0.]]]\n",
      "\n",
      "\n",
      " [[[ 3.  0.]\n",
      "   [ 6. -4.]\n",
      "   [ 4. -1.]]\n",
      "\n",
      "  [[ 0.  0.]\n",
      "   [ 0.  0.]\n",
      "   [ 0.  0.]]]]\n",
      " \n",
      "np.matmul\n",
      " \n",
      "[[[ 1.  2.]\n",
      "  [ 2.  1.]]\n",
      "\n",
      " [[-6.  4.]\n",
      "  [ 0.  0.]]\n",
      "\n",
      " [[ 4. -1.]\n",
      "  [ 0.  0.]]]\n",
      " \n",
      "[[[ 1.  2.]\n",
      "  [ 2.  1.]]\n",
      "\n",
      " [[-4.  2.]\n",
      "  [ 4. -2.]]\n",
      "\n",
      " [[ 0.  0.]\n",
      "  [-8.  4.]]]\n"
     ]
    }
   ],
   "source": [
    "# m1 = np.array([[1, 1, 1], [2, 2, 2], [3, 3, 3]])\n",
    "# m2 = np.array([[4, 4, 4], [5, 5, 5], [6, 6, 6]])\n",
    "\n",
    "m1 = np.round(np.random.randn(3, 2, 2))\n",
    "m2 = np.round(np.random.randn(3, 2, 2))\n",
    "\n",
    "print(m1)\n",
    "print(' ')\n",
    "print(m2)\n",
    "print(' ')\n",
    "\n",
    "\n",
    "print('np.multiply')\n",
    "print(' ')\n",
    "print(np.multiply(m1, m2))\n",
    "print(' ')\n",
    "print(np.multiply(m2, m1))\n",
    "print(' ')\n",
    "\n",
    "print('m1 * m2')\n",
    "print(m1 * m2)\n",
    "print(' ')\n",
    "print(m2 * m1)\n",
    "print(' ')\n",
    "\n",
    "print('np.dot(m1, m2)')\n",
    "print(' ')\n",
    "print(np.dot(m1, m2))\n",
    "print(' ')\n",
    "# print(np.dot(m2, m1))\n",
    "# print(' ')\n",
    "\n",
    "print('np.matmul')\n",
    "print(' ')\n",
    "print(np.matmul(m1, m2))\n",
    "print(' ')\n",
    "print(np.matmul(m2, m1))\n",
    "\n",
    "\n",
    "\n",
    "\n"
   ]
  },
  {
   "cell_type": "code",
   "execution_count": null,
   "id": "c783588d",
   "metadata": {},
   "outputs": [],
   "source": []
  }
 ],
 "metadata": {
  "kernelspec": {
   "display_name": "Python 3",
   "language": "python",
   "name": "python3"
  },
  "language_info": {
   "codemirror_mode": {
    "name": "ipython",
    "version": 3
   },
   "file_extension": ".py",
   "mimetype": "text/x-python",
   "name": "python",
   "nbconvert_exporter": "python",
   "pygments_lexer": "ipython3",
   "version": "3.6.12"
  }
 },
 "nbformat": 4,
 "nbformat_minor": 5
}
